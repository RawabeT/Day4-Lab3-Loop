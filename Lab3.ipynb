{
 "cells": [
  {
   "cell_type": "code",
   "execution_count": null,
   "id": "d5220a1c",
   "metadata": {},
   "outputs": [],
   "source": [
    "for i in range(45,210):\n",
    "    if i == 100:\n",
    "        continue;\n",
    "    elif i == 206:\n",
    "        break;\n",
    "    print(i)"
   ]
  },
  {
   "cell_type": "code",
   "execution_count": 38,
   "id": "c4a30608",
   "metadata": {},
   "outputs": [
    {
     "name": "stdout",
     "output_type": "stream",
     "text": [
      "what is the product of 7 * 24 ? 100\n",
      "Your Answer is wrong try again..\n",
      "what is the product of 7 * 24 ? 168\n",
      "You answered this Question correctly\n"
     ]
    }
   ],
   "source": [
    "answer = 0\n",
    "\n",
    "while True:\n",
    "    answer = input('what is the product of 7 * 24 ? ')\n",
    "    answer = int(answer)\n",
    "    if answer == 168:\n",
    "        print('You answered this Question correctly')\n",
    "        break;\n",
    "    \n",
    "    print('Your Answer is wrong try again..')\n",
    "    continue;\n",
    "        "
   ]
  }
 ],
 "metadata": {
  "kernelspec": {
   "display_name": "Python 3 (ipykernel)",
   "language": "python",
   "name": "python3"
  },
  "language_info": {
   "codemirror_mode": {
    "name": "ipython",
    "version": 3
   },
   "file_extension": ".py",
   "mimetype": "text/x-python",
   "name": "python",
   "nbconvert_exporter": "python",
   "pygments_lexer": "ipython3",
   "version": "3.9.12"
  }
 },
 "nbformat": 4,
 "nbformat_minor": 5
}
